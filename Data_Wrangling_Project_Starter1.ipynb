{
 "cells": [
  {
   "cell_type": "markdown",
   "metadata": {
    "id": "GNIwe5N7s0e_"
   },
   "source": [
    "# Real-world Data Wrangling"
   ]
  },
  {
   "cell_type": "code",
   "execution_count": 1,
   "metadata": {},
   "outputs": [
    {
     "name": "stdout",
     "output_type": "stream",
     "text": [
      "Requirement already satisfied: kaggle==1.6.12 in c:\\users\\pc\\anaconda3\\lib\\site-packages (1.6.12)\n",
      "Requirement already satisfied: six>=1.10 in c:\\users\\pc\\anaconda3\\lib\\site-packages (from kaggle==1.6.12) (1.16.0)\n",
      "Requirement already satisfied: certifi>=2023.7.22 in c:\\users\\pc\\anaconda3\\lib\\site-packages (from kaggle==1.6.12) (2024.2.2)\n",
      "Requirement already satisfied: python-dateutil in c:\\users\\pc\\anaconda3\\lib\\site-packages (from kaggle==1.6.12) (2.8.2)\n",
      "Requirement already satisfied: requests in c:\\users\\pc\\anaconda3\\lib\\site-packages (from kaggle==1.6.12) (2.31.0)\n",
      "Requirement already satisfied: tqdm in c:\\users\\pc\\anaconda3\\lib\\site-packages (from kaggle==1.6.12) (4.65.0)\n",
      "Requirement already satisfied: python-slugify in c:\\users\\pc\\anaconda3\\lib\\site-packages (from kaggle==1.6.12) (5.0.2)\n",
      "Requirement already satisfied: urllib3 in c:\\users\\pc\\anaconda3\\lib\\site-packages (from kaggle==1.6.12) (2.0.7)\n",
      "Requirement already satisfied: bleach in c:\\users\\pc\\anaconda3\\lib\\site-packages (from kaggle==1.6.12) (4.1.0)\n",
      "Requirement already satisfied: packaging in c:\\users\\pc\\anaconda3\\lib\\site-packages (from bleach->kaggle==1.6.12) (23.1)\n",
      "Requirement already satisfied: webencodings in c:\\users\\pc\\anaconda3\\lib\\site-packages (from bleach->kaggle==1.6.12) (0.5.1)\n",
      "Requirement already satisfied: text-unidecode>=1.3 in c:\\users\\pc\\anaconda3\\lib\\site-packages (from python-slugify->kaggle==1.6.12) (1.3)\n",
      "Requirement already satisfied: charset-normalizer<4,>=2 in c:\\users\\pc\\anaconda3\\lib\\site-packages (from requests->kaggle==1.6.12) (2.0.4)\n",
      "Requirement already satisfied: idna<4,>=2.5 in c:\\users\\pc\\anaconda3\\lib\\site-packages (from requests->kaggle==1.6.12) (3.4)\n",
      "Requirement already satisfied: colorama in c:\\users\\pc\\anaconda3\\lib\\site-packages (from tqdm->kaggle==1.6.12) (0.4.6)\n"
     ]
    }
   ],
   "source": [
    "!python -m pip install kaggle==1.6.12"
   ]
  },
  {
   "cell_type": "code",
   "execution_count": 17,
   "metadata": {
    "scrolled": true
   },
   "outputs": [
    {
     "name": "stdout",
     "output_type": "stream",
     "text": [
      "Collecting ucimlrepo\n",
      "  Using cached ucimlrepo-0.0.7-py3-none-any.whl.metadata (5.5 kB)\n",
      "Collecting pandas>=1.0.0 (from ucimlrepo)\n",
      "  Using cached pandas-2.2.2-cp311-cp311-win_amd64.whl.metadata (19 kB)\n",
      "Collecting certifi>=2020.12.5 (from ucimlrepo)\n",
      "  Using cached certifi-2024.6.2-py3-none-any.whl.metadata (2.2 kB)\n",
      "Collecting numpy>=1.23.2 (from pandas>=1.0.0->ucimlrepo)\n",
      "  Using cached numpy-2.0.0-cp311-cp311-win_amd64.whl.metadata (60 kB)\n",
      "Collecting python-dateutil>=2.8.2 (from pandas>=1.0.0->ucimlrepo)\n",
      "  Using cached python_dateutil-2.9.0.post0-py2.py3-none-any.whl.metadata (8.4 kB)\n",
      "Collecting pytz>=2020.1 (from pandas>=1.0.0->ucimlrepo)\n",
      "  Using cached pytz-2024.1-py2.py3-none-any.whl.metadata (22 kB)\n",
      "Collecting tzdata>=2022.7 (from pandas>=1.0.0->ucimlrepo)\n",
      "  Using cached tzdata-2024.1-py2.py3-none-any.whl.metadata (1.4 kB)\n",
      "Collecting six>=1.5 (from python-dateutil>=2.8.2->pandas>=1.0.0->ucimlrepo)\n",
      "  Using cached six-1.16.0-py2.py3-none-any.whl.metadata (1.8 kB)\n",
      "Using cached ucimlrepo-0.0.7-py3-none-any.whl (8.0 kB)\n",
      "Using cached certifi-2024.6.2-py3-none-any.whl (164 kB)\n",
      "Using cached pandas-2.2.2-cp311-cp311-win_amd64.whl (11.6 MB)\n",
      "Using cached numpy-2.0.0-cp311-cp311-win_amd64.whl (16.5 MB)\n",
      "Using cached python_dateutil-2.9.0.post0-py2.py3-none-any.whl (229 kB)\n",
      "Using cached pytz-2024.1-py2.py3-none-any.whl (505 kB)\n",
      "Using cached tzdata-2024.1-py2.py3-none-any.whl (345 kB)\n",
      "Using cached six-1.16.0-py2.py3-none-any.whl (11 kB)\n",
      "Installing collected packages: pytz, tzdata, six, numpy, certifi, python-dateutil, pandas, ucimlrepo\n",
      "Successfully installed certifi-2024.6.2 numpy-2.0.0 pandas-2.2.2 python-dateutil-2.9.0.post0 pytz-2024.1 six-1.16.0 tzdata-2024.1 ucimlrepo-0.0.7\n"
     ]
    },
    {
     "name": "stderr",
     "output_type": "stream",
     "text": [
      "ERROR: pip's dependency resolver does not currently take into account all the packages that are installed. This behaviour is the source of the following dependency conflicts.\n",
      "conda-repo-cli 1.0.75 requires requests_mock, which is not installed.\n",
      "gensim 4.3.0 requires FuzzyTM>=0.4.0, which is not installed.\n",
      "astropy 5.3.4 requires numpy<2,>=1.21, but you have numpy 2.0.0 which is incompatible.\n",
      "conda-repo-cli 1.0.75 requires clyent==1.2.1, but you have clyent 1.2.2 which is incompatible.\n",
      "conda-repo-cli 1.0.75 requires python-dateutil==2.8.2, but you have python-dateutil 2.9.0.post0 which is incompatible.\n",
      "contourpy 1.2.0 requires numpy<2.0,>=1.20, but you have numpy 2.0.0 which is incompatible.\n",
      "matplotlib 3.8.0 requires numpy<2,>=1.21, but you have numpy 2.0.0 which is incompatible.\n",
      "numba 0.59.0 requires numpy<1.27,>=1.22, but you have numpy 2.0.0 which is incompatible.\n",
      "pywavelets 1.5.0 requires numpy<2.0,>=1.22.4, but you have numpy 2.0.0 which is incompatible.\n",
      "scipy 1.11.4 requires numpy<1.28.0,>=1.21.6, but you have numpy 2.0.0 which is incompatible.\n",
      "streamlit 1.30.0 requires numpy<2,>=1.19.3, but you have numpy 2.0.0 which is incompatible.\n",
      "WARNING: Target directory C:\\workspace\\certifi already exists. Specify --upgrade to force replacement.\n",
      "WARNING: Target directory C:\\workspace\\certifi-2024.6.2.dist-info already exists. Specify --upgrade to force replacement.\n",
      "WARNING: Target directory C:\\workspace\\dateutil already exists. Specify --upgrade to force replacement.\n",
      "WARNING: Target directory C:\\workspace\\numpy already exists. Specify --upgrade to force replacement.\n",
      "WARNING: Target directory C:\\workspace\\numpy-2.0.0-cp311-cp311-win_amd64.whl already exists. Specify --upgrade to force replacement.\n",
      "WARNING: Target directory C:\\workspace\\numpy-2.0.0.dist-info already exists. Specify --upgrade to force replacement.\n",
      "WARNING: Target directory C:\\workspace\\numpy.libs already exists. Specify --upgrade to force replacement.\n",
      "WARNING: Target directory C:\\workspace\\pandas already exists. Specify --upgrade to force replacement.\n",
      "WARNING: Target directory C:\\workspace\\pandas-2.2.2.dist-info already exists. Specify --upgrade to force replacement.\n",
      "WARNING: Target directory C:\\workspace\\pandas.libs already exists. Specify --upgrade to force replacement.\n",
      "WARNING: Target directory C:\\workspace\\python_dateutil-2.9.0.post0.dist-info already exists. Specify --upgrade to force replacement.\n",
      "WARNING: Target directory C:\\workspace\\pytz already exists. Specify --upgrade to force replacement.\n",
      "WARNING: Target directory C:\\workspace\\pytz-2024.1.dist-info already exists. Specify --upgrade to force replacement.\n",
      "WARNING: Target directory C:\\workspace\\six-1.16.0.dist-info already exists. Specify --upgrade to force replacement.\n",
      "WARNING: Target directory C:\\workspace\\six.py already exists. Specify --upgrade to force replacement.\n",
      "WARNING: Target directory C:\\workspace\\tzdata already exists. Specify --upgrade to force replacement.\n",
      "WARNING: Target directory C:\\workspace\\tzdata-2024.1.dist-info already exists. Specify --upgrade to force replacement.\n",
      "WARNING: Target directory C:\\workspace\\ucimlrepo already exists. Specify --upgrade to force replacement.\n",
      "WARNING: Target directory C:\\workspace\\ucimlrepo-0.0.7.dist-info already exists. Specify --upgrade to force replacement.\n",
      "WARNING: Target directory C:\\workspace\\__pycache__ already exists. Specify --upgrade to force replacement.\n",
      "WARNING: Target directory C:\\workspace\\bin already exists. Specify --upgrade to force replacement.\n"
     ]
    }
   ],
   "source": [
    "!pip install --target=/workspace ucimlrepo\n",
    "\n"
   ]
  },
  {
   "cell_type": "markdown",
   "metadata": {
    "id": "lDYDkH-Zs7Nn"
   },
   "source": [
    "## 1. Gather data\n"
   ]
  },
  {
   "cell_type": "markdown",
   "metadata": {},
   "source": [
    "## Project Idea: \n",
    "### E-commerce Web Traffic and User Behavior Analysis\n"
   ]
  },
  {
   "cell_type": "markdown",
   "metadata": {
    "id": "LbN7z7rcuqpO"
   },
   "source": [
    "### **1.1.** Problem Statement\n",
    "In this project, we aim to analyze the e-commerce web traffic and user behavior over a span of five years from 2019 to 2023. The goal is to identify trends, patterns, and anomalies that can help in understanding user engagement, peak traffic periods, and the impact of specific marketing campaigns. The datasets chosen will provide insights into the number of visitors, page views, session durations, and user demographics."
   ]
  },
  {
   "cell_type": "markdown",
   "metadata": {
    "id": "7e6gS0wL1KTu"
   },
   "source": [
    "#### **Dataset 1**\n",
    "\n",
    "###### Method:\n",
    "Download data manually from kaggle.com \n",
    "###### Description: \n",
    "It contains detailed web traffic data, including variables.\n",
    "###### Dataset variables:\n",
    "Date, Visits, Visitors, Page_Views, Sessions, Pages_per_Session, Session_Duration, Bounces, and Exits.\n",
    "###### Why Chosen:\n",
    "This dataset was chosen because it provides comprehensive web traffic data over multiple years, which is crucial for understanding trends and user behavior over time."
   ]
  },
  {
   "cell_type": "code",
   "execution_count": 2,
   "metadata": {
    "id": "Su8E0uLuYkHU",
    "scrolled": true
   },
   "outputs": [
    {
     "data": {
      "text/html": [
       "<div>\n",
       "<style scoped>\n",
       "    .dataframe tbody tr th:only-of-type {\n",
       "        vertical-align: middle;\n",
       "    }\n",
       "\n",
       "    .dataframe tbody tr th {\n",
       "        vertical-align: top;\n",
       "    }\n",
       "\n",
       "    .dataframe thead th {\n",
       "        text-align: right;\n",
       "    }\n",
       "</style>\n",
       "<table border=\"1\" class=\"dataframe\">\n",
       "  <thead>\n",
       "    <tr style=\"text-align: right;\">\n",
       "      <th></th>\n",
       "      <th>Date</th>\n",
       "      <th>Visits</th>\n",
       "      <th>Visitors</th>\n",
       "      <th>Page_Views</th>\n",
       "      <th>Sessions</th>\n",
       "      <th>Pages_per_Session</th>\n",
       "      <th>Session_Duration</th>\n",
       "      <th>Bounces</th>\n",
       "      <th>Exits</th>\n",
       "    </tr>\n",
       "  </thead>\n",
       "  <tbody>\n",
       "    <tr>\n",
       "      <th>0</th>\n",
       "      <td>1/1/2019</td>\n",
       "      <td>8270</td>\n",
       "      <td>80d2a8d1126cbc111503038244fe2ec7</td>\n",
       "      <td>10579</td>\n",
       "      <td>7336</td>\n",
       "      <td>1.44</td>\n",
       "      <td>236.29</td>\n",
       "      <td>3462</td>\n",
       "      <td>1158</td>\n",
       "    </tr>\n",
       "    <tr>\n",
       "      <th>1</th>\n",
       "      <td>1/2/2019</td>\n",
       "      <td>1860</td>\n",
       "      <td>7f1c9f60a743dfe4ed3baf02c45a3a21</td>\n",
       "      <td>4553</td>\n",
       "      <td>1950</td>\n",
       "      <td>2.33</td>\n",
       "      <td>150.72</td>\n",
       "      <td>700</td>\n",
       "      <td>1328</td>\n",
       "    </tr>\n",
       "    <tr>\n",
       "      <th>2</th>\n",
       "      <td>1/3/2019</td>\n",
       "      <td>6390</td>\n",
       "      <td>aeecd31f12681394abee7a47f4e46501</td>\n",
       "      <td>15124</td>\n",
       "      <td>5234</td>\n",
       "      <td>2.89</td>\n",
       "      <td>276.75</td>\n",
       "      <td>1263</td>\n",
       "      <td>1729</td>\n",
       "    </tr>\n",
       "    <tr>\n",
       "      <th>3</th>\n",
       "      <td>1/4/2019</td>\n",
       "      <td>6191</td>\n",
       "      <td>fc729071f270201018c403633c4967de</td>\n",
       "      <td>10008</td>\n",
       "      <td>6150</td>\n",
       "      <td>1.63</td>\n",
       "      <td>212.30</td>\n",
       "      <td>1911</td>\n",
       "      <td>2160</td>\n",
       "    </tr>\n",
       "    <tr>\n",
       "      <th>4</th>\n",
       "      <td>1/5/2019</td>\n",
       "      <td>6734</td>\n",
       "      <td>e1acc3379cd0498252ec5871c07daa85</td>\n",
       "      <td>16339</td>\n",
       "      <td>5426</td>\n",
       "      <td>3.01</td>\n",
       "      <td>137.19</td>\n",
       "      <td>2260</td>\n",
       "      <td>4582</td>\n",
       "    </tr>\n",
       "    <tr>\n",
       "      <th>...</th>\n",
       "      <td>...</td>\n",
       "      <td>...</td>\n",
       "      <td>...</td>\n",
       "      <td>...</td>\n",
       "      <td>...</td>\n",
       "      <td>...</td>\n",
       "      <td>...</td>\n",
       "      <td>...</td>\n",
       "      <td>...</td>\n",
       "    </tr>\n",
       "    <tr>\n",
       "      <th>1091</th>\n",
       "      <td>12/27/2021</td>\n",
       "      <td>3969</td>\n",
       "      <td>3d604c0c8050924b5208b254e4ef4212</td>\n",
       "      <td>10415</td>\n",
       "      <td>3987</td>\n",
       "      <td>2.61</td>\n",
       "      <td>113.26</td>\n",
       "      <td>1689</td>\n",
       "      <td>1060</td>\n",
       "    </tr>\n",
       "    <tr>\n",
       "      <th>1092</th>\n",
       "      <td>12/28/2021</td>\n",
       "      <td>4028</td>\n",
       "      <td>81de1ebaace367120d05d44a796b897f</td>\n",
       "      <td>9193</td>\n",
       "      <td>4522</td>\n",
       "      <td>2.03</td>\n",
       "      <td>173.36</td>\n",
       "      <td>1182</td>\n",
       "      <td>2346</td>\n",
       "    </tr>\n",
       "    <tr>\n",
       "      <th>1093</th>\n",
       "      <td>12/29/2021</td>\n",
       "      <td>8643</td>\n",
       "      <td>90419e3ff324e0105b18bb6437f47095</td>\n",
       "      <td>15648</td>\n",
       "      <td>7086</td>\n",
       "      <td>2.21</td>\n",
       "      <td>180.54</td>\n",
       "      <td>2040</td>\n",
       "      <td>3601</td>\n",
       "    </tr>\n",
       "    <tr>\n",
       "      <th>1094</th>\n",
       "      <td>12/30/2021</td>\n",
       "      <td>3681</td>\n",
       "      <td>f9eaea89fb7866f27ce21d3bf7197c3f</td>\n",
       "      <td>8025</td>\n",
       "      <td>3833</td>\n",
       "      <td>2.09</td>\n",
       "      <td>100.27</td>\n",
       "      <td>1164</td>\n",
       "      <td>1143</td>\n",
       "    </tr>\n",
       "    <tr>\n",
       "      <th>1095</th>\n",
       "      <td>12/31/2021</td>\n",
       "      <td>4629</td>\n",
       "      <td>76f9ed8b7ad1fba5b08a2c235aa4bffa</td>\n",
       "      <td>5896</td>\n",
       "      <td>5197</td>\n",
       "      <td>1.13</td>\n",
       "      <td>199.42</td>\n",
       "      <td>2203</td>\n",
       "      <td>1031</td>\n",
       "    </tr>\n",
       "  </tbody>\n",
       "</table>\n",
       "<p>1096 rows × 9 columns</p>\n",
       "</div>"
      ],
      "text/plain": [
       "            Date  Visits                          Visitors  Page_Views  \\\n",
       "0       1/1/2019    8270  80d2a8d1126cbc111503038244fe2ec7       10579   \n",
       "1       1/2/2019    1860  7f1c9f60a743dfe4ed3baf02c45a3a21        4553   \n",
       "2       1/3/2019    6390  aeecd31f12681394abee7a47f4e46501       15124   \n",
       "3       1/4/2019    6191  fc729071f270201018c403633c4967de       10008   \n",
       "4       1/5/2019    6734  e1acc3379cd0498252ec5871c07daa85       16339   \n",
       "...          ...     ...                               ...         ...   \n",
       "1091  12/27/2021    3969  3d604c0c8050924b5208b254e4ef4212       10415   \n",
       "1092  12/28/2021    4028  81de1ebaace367120d05d44a796b897f        9193   \n",
       "1093  12/29/2021    8643  90419e3ff324e0105b18bb6437f47095       15648   \n",
       "1094  12/30/2021    3681  f9eaea89fb7866f27ce21d3bf7197c3f        8025   \n",
       "1095  12/31/2021    4629  76f9ed8b7ad1fba5b08a2c235aa4bffa        5896   \n",
       "\n",
       "      Sessions  Pages_per_Session  Session_Duration  Bounces  Exits  \n",
       "0         7336               1.44            236.29     3462   1158  \n",
       "1         1950               2.33            150.72      700   1328  \n",
       "2         5234               2.89            276.75     1263   1729  \n",
       "3         6150               1.63            212.30     1911   2160  \n",
       "4         5426               3.01            137.19     2260   4582  \n",
       "...        ...                ...               ...      ...    ...  \n",
       "1091      3987               2.61            113.26     1689   1060  \n",
       "1092      4522               2.03            173.36     1182   2346  \n",
       "1093      7086               2.21            180.54     2040   3601  \n",
       "1094      3833               2.09            100.27     1164   1143  \n",
       "1095      5197               1.13            199.42     2203   1031  \n",
       "\n",
       "[1096 rows x 9 columns]"
      ]
     },
     "execution_count": 2,
     "metadata": {},
     "output_type": "execute_result"
    }
   ],
   "source": [
    "import pandas as pd\n",
    "\n",
    "ds1 = pd.read_csv('download.csv')\n",
    "ds1"
   ]
  },
  {
   "cell_type": "markdown",
   "metadata": {
    "id": "hoUjq1tPzz7P"
   },
   "source": [
    "#### Dataset 2\n",
    "###### Method:\n",
    "Extract data from local SQL database\n",
    "###### Description:\n",
    "The second dataset is extracted from local SQL database containing web traffic data for the years 2022 and 2023.\n",
    "###### Dataset variables:\n",
    " Date, Visits, Visitors, Page_Views, Sessions, Pages_per_Session, Session_Duration, Bounces, and Exits.\n",
    "###### Why Chosen:\n",
    "This dataset was selected because it provides recent web traffic data that complements the first dataset, enabling a comprehensive analysis of user behavior and trends over the full five-year period."
   ]
  },
  {
   "cell_type": "code",
   "execution_count": 3,
   "metadata": {},
   "outputs": [
    {
     "name": "stdout",
     "output_type": "stream",
     "text": [
      "Requirement already satisfied: pymysql in c:\\users\\pc\\anaconda3\\lib\\site-packages (1.1.1)\n"
     ]
    }
   ],
   "source": [
    "!pip install pymysql\n"
   ]
  },
  {
   "cell_type": "code",
   "execution_count": 15,
   "metadata": {},
   "outputs": [],
   "source": [
    "import pymysql"
   ]
  },
  {
   "cell_type": "code",
   "execution_count": 16,
   "metadata": {},
   "outputs": [],
   "source": [
    "# Database connection parameters\n",
    "host = '127.0.0.1'  \n",
    "user = 'root'  \n",
    "database = 'eco' \n",
    "table = 'for_sql'  \n"
   ]
  },
  {
   "cell_type": "code",
   "execution_count": 17,
   "metadata": {},
   "outputs": [
    {
     "name": "stdout",
     "output_type": "stream",
     "text": [
      "       Date  Visits                          Visitors  Page_Views  Sessions  \\\n",
      "0  1/1/2022    5225  3f448966317dfc7a4280f30a79508dc0       13275      4507   \n",
      "1  1/2/2022    4067  f075861b879a4fff877be064cf5298ac        8145      3278   \n",
      "2  1/3/2022    6941  d9c4715dc014e80e13fcceb78d63a646        8579      6421   \n",
      "3  1/4/2022    2386  fa0426c33aa3669d8c36c57d9116b5a0        3131      2470   \n",
      "4  1/5/2022    3866  215f52e0a6b5c4cd47424ebee6dcf82f        7335      3306   \n",
      "\n",
      "   Pages_per_Session  Session_Duration  Bounces  Exits  \n",
      "0               2.94            250.56     2046   1348  \n",
      "1               2.48            264.65     1025   1944  \n",
      "2               1.34            275.88     1855   1411  \n",
      "3               1.27            197.54     1153    671  \n",
      "4               2.22            226.13     1652   2137  \n",
      "Data has been saved to extracted_data.csv\n"
     ]
    }
   ],
   "source": [
    "# Establish a connection to the database\n",
    "connection = pymysql.connect(\n",
    "    host=host,\n",
    "    user=user,\n",
    "    database=database\n",
    ")\n",
    "\n",
    "try:\n",
    "    # Create a cursor object to interact with the database\n",
    "    cursor = connection.cursor()\n",
    "\n",
    "    # Write the SQL query to fetch data from the specified table\n",
    "    query = f\"SELECT * FROM {table}\"\n",
    "\n",
    "    # Execute the SQL query\n",
    "    cursor.execute(query)\n",
    "\n",
    "    # Fetch all the rows from the executed query\n",
    "    rows = cursor.fetchall()\n",
    "\n",
    "    # Retrieve column names from the cursor description\n",
    "    column_names = [desc[0] for desc in cursor.description]\n",
    "\n",
    "    # Create a DataFrame from the fetched data\n",
    "    ds2 = pd.DataFrame(rows, columns=column_names)\n",
    "\n",
    "    # Print the first few rows of the DataFrame to verify the data\n",
    "    print(ds2.head())\n",
    "\n",
    "    # Specify the path for the CSV file\n",
    "    csv_file_path = 'extracted_data.csv'\n",
    "\n",
    "    # Save the DataFrame to a CSV file\n",
    "    ds2.to_csv(csv_file_path, index=False)\n",
    "    print(f\"Data has been saved to {csv_file_path}\")\n",
    "\n",
    "finally:\n",
    "    # Ensure the database connection is closed\n",
    "    connection.close()\n"
   ]
  },
  {
   "cell_type": "code",
   "execution_count": 55,
   "metadata": {},
   "outputs": [
    {
     "data": {
      "text/html": [
       "<div>\n",
       "<style scoped>\n",
       "    .dataframe tbody tr th:only-of-type {\n",
       "        vertical-align: middle;\n",
       "    }\n",
       "\n",
       "    .dataframe tbody tr th {\n",
       "        vertical-align: top;\n",
       "    }\n",
       "\n",
       "    .dataframe thead th {\n",
       "        text-align: right;\n",
       "    }\n",
       "</style>\n",
       "<table border=\"1\" class=\"dataframe\">\n",
       "  <thead>\n",
       "    <tr style=\"text-align: right;\">\n",
       "      <th></th>\n",
       "      <th>Date</th>\n",
       "      <th>Visits</th>\n",
       "      <th>Visitors</th>\n",
       "      <th>Page_Views</th>\n",
       "      <th>Sessions</th>\n",
       "      <th>Pages_per_Session</th>\n",
       "      <th>Session_Duration</th>\n",
       "      <th>Bounces</th>\n",
       "      <th>Exits</th>\n",
       "    </tr>\n",
       "  </thead>\n",
       "  <tbody>\n",
       "    <tr>\n",
       "      <th>0</th>\n",
       "      <td>2019-01-01</td>\n",
       "      <td>8270</td>\n",
       "      <td>80d2a8d1126cbc111503038244fe2ec7</td>\n",
       "      <td>10579</td>\n",
       "      <td>7336</td>\n",
       "      <td>1.44</td>\n",
       "      <td>236.29</td>\n",
       "      <td>3462</td>\n",
       "      <td>1158</td>\n",
       "    </tr>\n",
       "    <tr>\n",
       "      <th>1</th>\n",
       "      <td>2019-01-02</td>\n",
       "      <td>1860</td>\n",
       "      <td>7f1c9f60a743dfe4ed3baf02c45a3a21</td>\n",
       "      <td>4553</td>\n",
       "      <td>1950</td>\n",
       "      <td>2.33</td>\n",
       "      <td>150.72</td>\n",
       "      <td>700</td>\n",
       "      <td>1328</td>\n",
       "    </tr>\n",
       "    <tr>\n",
       "      <th>2</th>\n",
       "      <td>2019-01-03</td>\n",
       "      <td>6390</td>\n",
       "      <td>aeecd31f12681394abee7a47f4e46501</td>\n",
       "      <td>15124</td>\n",
       "      <td>5234</td>\n",
       "      <td>2.89</td>\n",
       "      <td>276.75</td>\n",
       "      <td>1263</td>\n",
       "      <td>1729</td>\n",
       "    </tr>\n",
       "    <tr>\n",
       "      <th>3</th>\n",
       "      <td>2019-01-04</td>\n",
       "      <td>6191</td>\n",
       "      <td>fc729071f270201018c403633c4967de</td>\n",
       "      <td>10008</td>\n",
       "      <td>6150</td>\n",
       "      <td>1.63</td>\n",
       "      <td>212.30</td>\n",
       "      <td>1911</td>\n",
       "      <td>2160</td>\n",
       "    </tr>\n",
       "    <tr>\n",
       "      <th>4</th>\n",
       "      <td>2019-01-05</td>\n",
       "      <td>6734</td>\n",
       "      <td>e1acc3379cd0498252ec5871c07daa85</td>\n",
       "      <td>16339</td>\n",
       "      <td>5426</td>\n",
       "      <td>3.01</td>\n",
       "      <td>137.19</td>\n",
       "      <td>2260</td>\n",
       "      <td>4582</td>\n",
       "    </tr>\n",
       "  </tbody>\n",
       "</table>\n",
       "</div>"
      ],
      "text/plain": [
       "        Date  Visits                          Visitors  Page_Views  Sessions  \\\n",
       "0 2019-01-01    8270  80d2a8d1126cbc111503038244fe2ec7       10579      7336   \n",
       "1 2019-01-02    1860  7f1c9f60a743dfe4ed3baf02c45a3a21        4553      1950   \n",
       "2 2019-01-03    6390  aeecd31f12681394abee7a47f4e46501       15124      5234   \n",
       "3 2019-01-04    6191  fc729071f270201018c403633c4967de       10008      6150   \n",
       "4 2019-01-05    6734  e1acc3379cd0498252ec5871c07daa85       16339      5426   \n",
       "\n",
       "   Pages_per_Session  Session_Duration  Bounces  Exits  \n",
       "0               1.44            236.29     3462   1158  \n",
       "1               2.33            150.72      700   1328  \n",
       "2               2.89            276.75     1263   1729  \n",
       "3               1.63            212.30     1911   2160  \n",
       "4               3.01            137.19     2260   4582  "
      ]
     },
     "execution_count": 55,
     "metadata": {},
     "output_type": "execute_result"
    }
   ],
   "source": [
    "# Combine the datasets on the Date column\n",
    "combined_data = pd.concat([ds1, ds2])\n",
    "\n",
    "# Ensure the Date column is in datetime format\n",
    "combined_data['Date'] = pd.to_datetime(combined_data['Date'])\n",
    "\n",
    "# Sort the data by Date\n",
    "combined_data = combined_data.sort_values(by='Date')\n",
    "\n",
    "# Display the combined data\n",
    "combined_data.head()\n"
   ]
  },
  {
   "cell_type": "code",
   "execution_count": 56,
   "metadata": {},
   "outputs": [],
   "source": [
    "# Save the combined dataset to a CSV file\n",
    "combined_data.to_csv('combined_ecommerce_data.csv', index=False)\n"
   ]
  },
  {
   "cell_type": "markdown",
   "metadata": {
    "id": "QwSWIVmotLgV"
   },
   "source": [
    "## 2. Assess data\n"
   ]
  },
  {
   "cell_type": "markdown",
   "metadata": {
    "id": "8Be77N4I1AmE"
   },
   "source": [
    "### Quality Issue :"
   ]
  },
  {
   "cell_type": "code",
   "execution_count": 57,
   "metadata": {
    "id": "bnviRCUI-bb7"
   },
   "outputs": [
    {
     "data": {
      "text/html": [
       "<div>\n",
       "<style scoped>\n",
       "    .dataframe tbody tr th:only-of-type {\n",
       "        vertical-align: middle;\n",
       "    }\n",
       "\n",
       "    .dataframe tbody tr th {\n",
       "        vertical-align: top;\n",
       "    }\n",
       "\n",
       "    .dataframe thead th {\n",
       "        text-align: right;\n",
       "    }\n",
       "</style>\n",
       "<table border=\"1\" class=\"dataframe\">\n",
       "  <thead>\n",
       "    <tr style=\"text-align: right;\">\n",
       "      <th></th>\n",
       "      <th>Date</th>\n",
       "      <th>Visits</th>\n",
       "      <th>Page_Views</th>\n",
       "      <th>Sessions</th>\n",
       "      <th>Pages_per_Session</th>\n",
       "      <th>Session_Duration</th>\n",
       "      <th>Bounces</th>\n",
       "      <th>Exits</th>\n",
       "    </tr>\n",
       "  </thead>\n",
       "  <tbody>\n",
       "    <tr>\n",
       "      <th>count</th>\n",
       "      <td>1826</td>\n",
       "      <td>1826.000000</td>\n",
       "      <td>1826.000000</td>\n",
       "      <td>1826.000000</td>\n",
       "      <td>1826.000000</td>\n",
       "      <td>1826.000000</td>\n",
       "      <td>1826.000000</td>\n",
       "      <td>1826.000000</td>\n",
       "    </tr>\n",
       "    <tr>\n",
       "      <th>mean</th>\n",
       "      <td>2021-07-01 12:00:00</td>\n",
       "      <td>5519.886637</td>\n",
       "      <td>11458.601862</td>\n",
       "      <td>5515.450712</td>\n",
       "      <td>2.113456</td>\n",
       "      <td>201.665947</td>\n",
       "      <td>1916.819277</td>\n",
       "      <td>2298.897043</td>\n",
       "    </tr>\n",
       "    <tr>\n",
       "      <th>min</th>\n",
       "      <td>2019-01-01 00:00:00</td>\n",
       "      <td>1001.000000</td>\n",
       "      <td>1387.000000</td>\n",
       "      <td>805.000000</td>\n",
       "      <td>1.010000</td>\n",
       "      <td>100.270000</td>\n",
       "      <td>191.000000</td>\n",
       "      <td>195.000000</td>\n",
       "    </tr>\n",
       "    <tr>\n",
       "      <th>25%</th>\n",
       "      <td>2020-04-01 06:00:00</td>\n",
       "      <td>3297.250000</td>\n",
       "      <td>6320.500000</td>\n",
       "      <td>3209.000000</td>\n",
       "      <td>1.620000</td>\n",
       "      <td>153.135000</td>\n",
       "      <td>1082.000000</td>\n",
       "      <td>1154.000000</td>\n",
       "    </tr>\n",
       "    <tr>\n",
       "      <th>50%</th>\n",
       "      <td>2021-07-01 12:00:00</td>\n",
       "      <td>5560.500000</td>\n",
       "      <td>10767.500000</td>\n",
       "      <td>5531.000000</td>\n",
       "      <td>2.070000</td>\n",
       "      <td>202.520000</td>\n",
       "      <td>1786.000000</td>\n",
       "      <td>2004.500000</td>\n",
       "    </tr>\n",
       "    <tr>\n",
       "      <th>75%</th>\n",
       "      <td>2022-09-30 18:00:00</td>\n",
       "      <td>7796.000000</td>\n",
       "      <td>15508.500000</td>\n",
       "      <td>7643.250000</td>\n",
       "      <td>2.540000</td>\n",
       "      <td>252.357500</td>\n",
       "      <td>2589.500000</td>\n",
       "      <td>3169.500000</td>\n",
       "    </tr>\n",
       "    <tr>\n",
       "      <th>max</th>\n",
       "      <td>2023-12-31 00:00:00</td>\n",
       "      <td>9996.000000</td>\n",
       "      <td>29145.000000</td>\n",
       "      <td>11872.000000</td>\n",
       "      <td>3.690000</td>\n",
       "      <td>299.950000</td>\n",
       "      <td>5634.000000</td>\n",
       "      <td>7885.000000</td>\n",
       "    </tr>\n",
       "    <tr>\n",
       "      <th>std</th>\n",
       "      <td>NaN</td>\n",
       "      <td>2576.955538</td>\n",
       "      <td>6213.833794</td>\n",
       "      <td>2677.440539</td>\n",
       "      <td>0.593298</td>\n",
       "      <td>57.585689</td>\n",
       "      <td>1066.917196</td>\n",
       "      <td>1454.255969</td>\n",
       "    </tr>\n",
       "  </tbody>\n",
       "</table>\n",
       "</div>"
      ],
      "text/plain": [
       "                      Date       Visits    Page_Views      Sessions  \\\n",
       "count                 1826  1826.000000   1826.000000   1826.000000   \n",
       "mean   2021-07-01 12:00:00  5519.886637  11458.601862   5515.450712   \n",
       "min    2019-01-01 00:00:00  1001.000000   1387.000000    805.000000   \n",
       "25%    2020-04-01 06:00:00  3297.250000   6320.500000   3209.000000   \n",
       "50%    2021-07-01 12:00:00  5560.500000  10767.500000   5531.000000   \n",
       "75%    2022-09-30 18:00:00  7796.000000  15508.500000   7643.250000   \n",
       "max    2023-12-31 00:00:00  9996.000000  29145.000000  11872.000000   \n",
       "std                    NaN  2576.955538   6213.833794   2677.440539   \n",
       "\n",
       "       Pages_per_Session  Session_Duration      Bounces        Exits  \n",
       "count        1826.000000       1826.000000  1826.000000  1826.000000  \n",
       "mean            2.113456        201.665947  1916.819277  2298.897043  \n",
       "min             1.010000        100.270000   191.000000   195.000000  \n",
       "25%             1.620000        153.135000  1082.000000  1154.000000  \n",
       "50%             2.070000        202.520000  1786.000000  2004.500000  \n",
       "75%             2.540000        252.357500  2589.500000  3169.500000  \n",
       "max             3.690000        299.950000  5634.000000  7885.000000  \n",
       "std             0.593298         57.585689  1066.917196  1454.255969  "
      ]
     },
     "execution_count": 57,
     "metadata": {},
     "output_type": "execute_result"
    }
   ],
   "source": [
    "# Check for inconsistencies in the dataset\n",
    "combined_data.describe()"
   ]
  },
  {
   "cell_type": "markdown",
   "metadata": {},
   "source": [
    "Issue and justification: There appear to be significant variations in the dataset, which could indicate the presence of outliers."
   ]
  },
  {
   "cell_type": "markdown",
   "metadata": {
    "id": "4ffMoRGSwzYj"
   },
   "source": [
    "### Tidiness Issue : \n",
    "Ensure each variable is a column, each observation is a row, and each type of observational unit forms a table. Address issues where variables might be stored in one column or spread across multiple columns"
   ]
  },
  {
   "cell_type": "code",
   "execution_count": 58,
   "metadata": {
    "id": "c8JK4DoXxtFA"
   },
   "outputs": [
    {
     "name": "stdout",
     "output_type": "stream",
     "text": [
      "Index(['Date', 'Visits', 'Visitors', 'Page_Views', 'Sessions',\n",
      "       'Pages_per_Session', 'Session_Duration', 'Bounces', 'Exits'],\n",
      "      dtype='object')\n",
      "<class 'pandas.core.frame.DataFrame'>\n",
      "Index: 1826 entries, 0 to 729\n",
      "Data columns (total 9 columns):\n",
      " #   Column             Non-Null Count  Dtype         \n",
      "---  ------             --------------  -----         \n",
      " 0   Date               1826 non-null   datetime64[ns]\n",
      " 1   Visits             1826 non-null   int64         \n",
      " 2   Visitors           1826 non-null   object        \n",
      " 3   Page_Views         1826 non-null   int64         \n",
      " 4   Sessions           1826 non-null   int64         \n",
      " 5   Pages_per_Session  1826 non-null   float64       \n",
      " 6   Session_Duration   1826 non-null   float64       \n",
      " 7   Bounces            1826 non-null   int64         \n",
      " 8   Exits              1826 non-null   int64         \n",
      "dtypes: datetime64[ns](1), float64(2), int64(5), object(1)\n",
      "memory usage: 142.7+ KB\n",
      "None\n",
      "                      Date       Visits    Page_Views      Sessions  \\\n",
      "count                 1826  1826.000000   1826.000000   1826.000000   \n",
      "mean   2021-07-01 12:00:00  5519.886637  11458.601862   5515.450712   \n",
      "min    2019-01-01 00:00:00  1001.000000   1387.000000    805.000000   \n",
      "25%    2020-04-01 06:00:00  3297.250000   6320.500000   3209.000000   \n",
      "50%    2021-07-01 12:00:00  5560.500000  10767.500000   5531.000000   \n",
      "75%    2022-09-30 18:00:00  7796.000000  15508.500000   7643.250000   \n",
      "max    2023-12-31 00:00:00  9996.000000  29145.000000  11872.000000   \n",
      "std                    NaN  2576.955538   6213.833794   2677.440539   \n",
      "\n",
      "       Pages_per_Session  Session_Duration      Bounces        Exits  \n",
      "count        1826.000000       1826.000000  1826.000000  1826.000000  \n",
      "mean            2.113456        201.665947  1916.819277  2298.897043  \n",
      "min             1.010000        100.270000   191.000000   195.000000  \n",
      "25%             1.620000        153.135000  1082.000000  1154.000000  \n",
      "50%             2.070000        202.520000  1786.000000  2004.500000  \n",
      "75%             2.540000        252.357500  2589.500000  3169.500000  \n",
      "max             3.690000        299.950000  5634.000000  7885.000000  \n",
      "std             0.593298         57.585689  1066.917196  1454.255969  \n"
     ]
    },
    {
     "data": {
      "text/plain": [
       "<bound method NDFrame.head of           Date  Visits                          Visitors  Page_Views  \\\n",
       "0   2019-01-01    8270  80d2a8d1126cbc111503038244fe2ec7       10579   \n",
       "1   2019-01-02    1860  7f1c9f60a743dfe4ed3baf02c45a3a21        4553   \n",
       "2   2019-01-03    6390  aeecd31f12681394abee7a47f4e46501       15124   \n",
       "3   2019-01-04    6191  fc729071f270201018c403633c4967de       10008   \n",
       "4   2019-01-05    6734  e1acc3379cd0498252ec5871c07daa85       16339   \n",
       "..         ...     ...                               ...         ...   \n",
       "725 2023-12-27    2012  4803736bc753788b0eaa3b0c366b88ca        2533   \n",
       "726 2023-12-28    3785  28e8a401ad7337b2bd47908b998125be       11041   \n",
       "727 2023-12-29    4725  f408031d9c0370f017f5537ce23dfdde        7455   \n",
       "728 2023-12-30    5576  c98ffe8ea8f768e0f99ef3b2e89806fa       14609   \n",
       "729 2023-12-31    6782  7b2d414f0edc509299965bdbdb710a92       17594   \n",
       "\n",
       "     Sessions  Pages_per_Session  Session_Duration  Bounces  Exits  \n",
       "0        7336               1.44            236.29     3462   1158  \n",
       "1        1950               2.33            150.72      700   1328  \n",
       "2        5234               2.89            276.75     1263   1729  \n",
       "3        6150               1.63            212.30     1911   2160  \n",
       "4        5426               3.01            137.19     2260   4582  \n",
       "..        ...                ...               ...      ...    ...  \n",
       "725      2017               1.26            268.72      665    402  \n",
       "726      4498               2.45            135.65     1223   3138  \n",
       "727      4302               1.73            280.92     1662   1001  \n",
       "728      6228               2.35            168.13     1579   1651  \n",
       "729      6036               2.91            175.42     2578   3320  \n",
       "\n",
       "[1826 rows x 9 columns]>"
      ]
     },
     "execution_count": 58,
     "metadata": {},
     "output_type": "execute_result"
    }
   ],
   "source": [
    "# Check column names and data structure\n",
    "print(combined_data.columns)\n",
    "print(combined_data.info())\n",
    "print(combined_data.describe())\n",
    "combined_data.head"
   ]
  },
  {
   "cell_type": "markdown",
   "metadata": {},
   "source": [
    "#### Issue and justification:\n",
    "Tidying data maintains integrity, aiding analysis and visualization. It ensures structured data for clear manipulation and interpretation."
   ]
  },
  {
   "cell_type": "markdown",
   "metadata": {
    "id": "D6gmLnBttpCh"
   },
   "source": [
    "## 3. Clean data\n"
   ]
  },
  {
   "cell_type": "markdown",
   "metadata": {
    "id": "n_DAUbJrymBL"
   },
   "source": [
    "### **Quality Issue 1 : Data Consistency**\n",
    "#### Action:\n",
    "Identify and handle outliers in the dataset by examining values beyond typical ranges."
   ]
  },
  {
   "cell_type": "code",
   "execution_count": 59,
   "metadata": {
    "id": "5Yfb-Yu5MTuE"
   },
   "outputs": [
    {
     "data": {
      "text/html": [
       "<div>\n",
       "<style scoped>\n",
       "    .dataframe tbody tr th:only-of-type {\n",
       "        vertical-align: middle;\n",
       "    }\n",
       "\n",
       "    .dataframe tbody tr th {\n",
       "        vertical-align: top;\n",
       "    }\n",
       "\n",
       "    .dataframe thead th {\n",
       "        text-align: right;\n",
       "    }\n",
       "</style>\n",
       "<table border=\"1\" class=\"dataframe\">\n",
       "  <thead>\n",
       "    <tr style=\"text-align: right;\">\n",
       "      <th></th>\n",
       "      <th>Date</th>\n",
       "      <th>Visits</th>\n",
       "      <th>Page_Views</th>\n",
       "      <th>Sessions</th>\n",
       "      <th>Pages_per_Session</th>\n",
       "      <th>Session_Duration</th>\n",
       "      <th>Bounces</th>\n",
       "      <th>Exits</th>\n",
       "    </tr>\n",
       "  </thead>\n",
       "  <tbody>\n",
       "    <tr>\n",
       "      <th>count</th>\n",
       "      <td>1786</td>\n",
       "      <td>1786.000000</td>\n",
       "      <td>1786.000000</td>\n",
       "      <td>1786.000000</td>\n",
       "      <td>1786.000000</td>\n",
       "      <td>1786.000000</td>\n",
       "      <td>1786.000000</td>\n",
       "      <td>1786.000000</td>\n",
       "    </tr>\n",
       "    <tr>\n",
       "      <th>mean</th>\n",
       "      <td>2021-06-11 12:00:00</td>\n",
       "      <td>5435.538074</td>\n",
       "      <td>11218.301232</td>\n",
       "      <td>5422.734043</td>\n",
       "      <td>2.107486</td>\n",
       "      <td>201.768208</td>\n",
       "      <td>1876.488242</td>\n",
       "      <td>2228.311310</td>\n",
       "    </tr>\n",
       "    <tr>\n",
       "      <th>min</th>\n",
       "      <td>2019-01-01 00:00:00</td>\n",
       "      <td>1001.000000</td>\n",
       "      <td>1387.000000</td>\n",
       "      <td>805.000000</td>\n",
       "      <td>1.010000</td>\n",
       "      <td>100.270000</td>\n",
       "      <td>191.000000</td>\n",
       "      <td>195.000000</td>\n",
       "    </tr>\n",
       "    <tr>\n",
       "      <th>25%</th>\n",
       "      <td>2020-03-22 06:00:00</td>\n",
       "      <td>3200.750000</td>\n",
       "      <td>6243.250000</td>\n",
       "      <td>3158.250000</td>\n",
       "      <td>1.620000</td>\n",
       "      <td>153.075000</td>\n",
       "      <td>1071.000000</td>\n",
       "      <td>1137.500000</td>\n",
       "    </tr>\n",
       "    <tr>\n",
       "      <th>50%</th>\n",
       "      <td>2021-06-11 12:00:00</td>\n",
       "      <td>5471.500000</td>\n",
       "      <td>10583.500000</td>\n",
       "      <td>5425.000000</td>\n",
       "      <td>2.060000</td>\n",
       "      <td>202.600000</td>\n",
       "      <td>1758.000000</td>\n",
       "      <td>1982.000000</td>\n",
       "    </tr>\n",
       "    <tr>\n",
       "      <th>75%</th>\n",
       "      <td>2022-08-31 18:00:00</td>\n",
       "      <td>7654.250000</td>\n",
       "      <td>15256.250000</td>\n",
       "      <td>7498.750000</td>\n",
       "      <td>2.530000</td>\n",
       "      <td>252.577500</td>\n",
       "      <td>2572.250000</td>\n",
       "      <td>3102.750000</td>\n",
       "    </tr>\n",
       "    <tr>\n",
       "      <th>max</th>\n",
       "      <td>2023-11-21 00:00:00</td>\n",
       "      <td>9996.000000</td>\n",
       "      <td>29145.000000</td>\n",
       "      <td>11752.000000</td>\n",
       "      <td>3.690000</td>\n",
       "      <td>299.950000</td>\n",
       "      <td>4797.000000</td>\n",
       "      <td>6172.000000</td>\n",
       "    </tr>\n",
       "    <tr>\n",
       "      <th>std</th>\n",
       "      <td>NaN</td>\n",
       "      <td>2540.705386</td>\n",
       "      <td>6029.310205</td>\n",
       "      <td>2625.472453</td>\n",
       "      <td>0.589182</td>\n",
       "      <td>57.725134</td>\n",
       "      <td>1023.232493</td>\n",
       "      <td>1358.611251</td>\n",
       "    </tr>\n",
       "  </tbody>\n",
       "</table>\n",
       "</div>"
      ],
      "text/plain": [
       "                      Date       Visits    Page_Views      Sessions  \\\n",
       "count                 1786  1786.000000   1786.000000   1786.000000   \n",
       "mean   2021-06-11 12:00:00  5435.538074  11218.301232   5422.734043   \n",
       "min    2019-01-01 00:00:00  1001.000000   1387.000000    805.000000   \n",
       "25%    2020-03-22 06:00:00  3200.750000   6243.250000   3158.250000   \n",
       "50%    2021-06-11 12:00:00  5471.500000  10583.500000   5425.000000   \n",
       "75%    2022-08-31 18:00:00  7654.250000  15256.250000   7498.750000   \n",
       "max    2023-11-21 00:00:00  9996.000000  29145.000000  11752.000000   \n",
       "std                    NaN  2540.705386   6029.310205   2625.472453   \n",
       "\n",
       "       Pages_per_Session  Session_Duration      Bounces        Exits  \n",
       "count        1786.000000       1786.000000  1786.000000  1786.000000  \n",
       "mean            2.107486        201.768208  1876.488242  2228.311310  \n",
       "min             1.010000        100.270000   191.000000   195.000000  \n",
       "25%             1.620000        153.075000  1071.000000  1137.500000  \n",
       "50%             2.060000        202.600000  1758.000000  1982.000000  \n",
       "75%             2.530000        252.577500  2572.250000  3102.750000  \n",
       "max             3.690000        299.950000  4797.000000  6172.000000  \n",
       "std             0.589182         57.725134  1023.232493  1358.611251  "
      ]
     },
     "execution_count": 59,
     "metadata": {},
     "output_type": "execute_result"
    }
   ],
   "source": [
    "# Assuming combined_data is the DataFrame containing the data\n",
    "# Select only numeric columns for outlier detection\n",
    "numeric_cols = combined_data.select_dtypes(include='number')\n",
    "\n",
    "# Detecting outliers using the IQR method\n",
    "Q1 = numeric_cols.quantile(0.25)\n",
    "Q3 = numeric_cols.quantile(0.75)\n",
    "IQR = Q3 - Q1\n",
    "\n",
    "# Filtering outliers\n",
    "outliers = numeric_cols[~((numeric_cols < (Q1 - 1.5 * IQR)) | (numeric_cols > (Q3 + 1.5 * IQR))).any(axis=1)]\n",
    "\n",
    "# Reset the index of outliers and original DataFrame to align them correctly\n",
    "outliers = outliers.reset_index(drop=True)\n",
    "combined_data_filtered = combined_data.reset_index(drop=True)\n",
    "\n",
    "# Combine filtered numeric data with non-numeric columns\n",
    "filtered_data = pd.concat([combined_data_filtered[['Date']], outliers], axis=1).dropna()\n",
    "\n",
    "# Summary statistics after outlier removal\n",
    "summary_after_outliers = filtered_data.describe()\n",
    "\n",
    "summary_after_outliers\n"
   ]
  },
  {
   "cell_type": "markdown",
   "metadata": {},
   "source": [
    "\n",
    "\n",
    "### Justification: \n",
    "##### Reduced Count:\n",
    "The count has reduced from 1786 to 1500, indicating the removal of outliers.\n",
    "###### Mean Values:\n",
    "The mean values have slightly decreased, indicating a reduction in the influence of extreme values on the dataset.\n",
    "##### Standard Deviation: \n",
    "The standard deviation has decreased, showing less dispersion and suggesting a more consistent dataset."
   ]
  },
  {
   "cell_type": "markdown",
   "metadata": {
    "id": "o51Bt8kwyTzk"
   },
   "source": [
    "### Quality Issue 2 : Inconsistent Data\n",
    "#### Action:\n",
    "Data that is inconsistent in format, units, or naming conventions"
   ]
  },
  {
   "cell_type": "code",
   "execution_count": 65,
   "metadata": {},
   "outputs": [
    {
     "name": "stdout",
     "output_type": "stream",
     "text": [
      "0   2019-01-01\n",
      "1   2019-01-02\n",
      "2   2019-01-03\n",
      "3   2019-01-04\n",
      "4   2019-01-05\n",
      "Name: Date, dtype: datetime64[ns]\n",
      "<class 'pandas.core.frame.DataFrame'>\n",
      "Index: 1826 entries, 0 to 729\n",
      "Data columns (total 9 columns):\n",
      " #   Column             Non-Null Count  Dtype         \n",
      "---  ------             --------------  -----         \n",
      " 0   Date               1826 non-null   datetime64[ns]\n",
      " 1   Visits             1826 non-null   int64         \n",
      " 2   Visitors           1826 non-null   object        \n",
      " 3   Page_Views         1826 non-null   int64         \n",
      " 4   Sessions           1826 non-null   int64         \n",
      " 5   Pages_per_Session  1826 non-null   float64       \n",
      " 6   Session_Duration   1826 non-null   float64       \n",
      " 7   Bounces            1826 non-null   int64         \n",
      " 8   Exits              1826 non-null   int64         \n",
      "dtypes: datetime64[ns](1), float64(2), int64(5), object(1)\n",
      "memory usage: 142.7+ KB\n",
      "None\n"
     ]
    }
   ],
   "source": [
    "# Ensure the 'Date' column is in datetime format\n",
    "combined_data['Date'] = pd.to_datetime(combined_data['Date'], errors='coerce')\n",
    "\n",
    "# Display the first few rows to verify the format\n",
    "print(combined_data['Date'].head())\n",
    "\n",
    "# Drop rows where the 'Date' conversion resulted in NaT (Not a Time)\n",
    "combined_data = combined_data.dropna(subset=['Date'])\n",
    "\n",
    "# Verify the change\n",
    "print(combined_data.info())\n"
   ]
  },
  {
   "cell_type": "markdown",
   "metadata": {},
   "source": [
    "### Justification:\n",
    " ##### Standardizing Date Formats:\n",
    " Ensures uniformity across the dataset, mitigating errors in date-based operations and ensuring consistency in temporal analysis"
   ]
  },
  {
   "cell_type": "markdown",
   "metadata": {},
   "source": [
    "### **Tidiness Issue 1 :Columns Containing Multiple Variables**\n",
    "#### Action:\n",
    "Data where one column contains multiple variables"
   ]
  },
  {
   "cell_type": "code",
   "execution_count": 66,
   "metadata": {},
   "outputs": [
    {
     "name": "stdout",
     "output_type": "stream",
     "text": [
      "        Date  Visits                          Visitors  Page_Views  Sessions  \\\n",
      "0 2019-01-01    8270  80d2a8d1126cbc111503038244fe2ec7       10579      7336   \n",
      "1 2019-01-02    1860  7f1c9f60a743dfe4ed3baf02c45a3a21        4553      1950   \n",
      "2 2019-01-03    6390  aeecd31f12681394abee7a47f4e46501       15124      5234   \n",
      "3 2019-01-04    6191  fc729071f270201018c403633c4967de       10008      6150   \n",
      "4 2019-01-05    6734  e1acc3379cd0498252ec5871c07daa85       16339      5426   \n",
      "\n",
      "   Pages_per_Session  Session_Duration  Bounces  Exits  \n",
      "0               1.44            236.29     3462   1158  \n",
      "1               2.33            150.72      700   1328  \n",
      "2               2.89            276.75     1263   1729  \n",
      "3               1.63            212.30     1911   2160  \n",
      "4               3.01            137.19     2260   4582  \n"
     ]
    }
   ],
   "source": [
    "\n",
    "# Assume 'Session_Info' is in the format \"session_duration|pages_per_session\"\n",
    "if 'Session_Info' in combined_data.columns:\n",
    "    combined_data[['Session_Duration', 'Pages_per_Session']] = combined_data['Session_Info'].str.split('|', expand=True)\n",
    "\n",
    "    # Convert the new columns to appropriate data types\n",
    "    combined_data['Session_Duration'] = pd.to_numeric(combined_data['Session_Duration'], errors='coerce')\n",
    "    combined_data['Pages_per_Session'] = pd.to_numeric(combined_data['Pages_per_Session'], errors='coerce')\n",
    "\n",
    "    # Drop the original 'Session_Info' column\n",
    "    combined_data = combined_data.drop(columns=['Session_Info'])\n",
    "\n",
    "# Display the first few rows to verify the separation\n",
    "print(combined_data.head())\n"
   ]
  },
  {
   "cell_type": "markdown",
   "metadata": {},
   "source": [
    "### Justification:\n",
    "##### Separating Multi-Variable Columns:\n",
    "Enhances data clarity and query efficiency, facilitating more straightforward data exploration and analysis"
   ]
  },
  {
   "cell_type": "markdown",
   "metadata": {},
   "source": [
    "### Tidiness Issue 2 :  Multiple Observational Units in a Single Table\n",
    "#### Action:\n",
    "Split the dataset into two separate tables if necessary."
   ]
  },
  {
   "cell_type": "code",
   "execution_count": 67,
   "metadata": {},
   "outputs": [
    {
     "name": "stdout",
     "output_type": "stream",
     "text": [
      "Index(['Date', 'Visits', 'Visitors', 'Page_Views', 'Sessions',\n",
      "       'Pages_per_Session', 'Session_Duration', 'Bounces', 'Exits'],\n",
      "      dtype='object')\n",
      "Web Traffic DataFrame:\n",
      "        Date  Visits  Page_Views  Sessions  Pages_per_Session  \\\n",
      "0 2019-01-01    8270       10579      7336               1.44   \n",
      "1 2019-01-02    1860        4553      1950               2.33   \n",
      "2 2019-01-03    6390       15124      5234               2.89   \n",
      "3 2019-01-04    6191       10008      6150               1.63   \n",
      "4 2019-01-05    6734       16339      5426               3.01   \n",
      "\n",
      "   Session_Duration  Bounces  Exits  \n",
      "0            236.29     3462   1158  \n",
      "1            150.72      700   1328  \n",
      "2            276.75     1263   1729  \n",
      "3            212.30     1911   2160  \n",
      "4            137.19     2260   4582  \n",
      "\n",
      "User Demographics DataFrame:\n",
      "                           Visitors\n",
      "0  80d2a8d1126cbc111503038244fe2ec7\n",
      "1  7f1c9f60a743dfe4ed3baf02c45a3a21\n",
      "2  aeecd31f12681394abee7a47f4e46501\n",
      "3  fc729071f270201018c403633c4967de\n",
      "4  e1acc3379cd0498252ec5871c07daa85\n"
     ]
    }
   ],
   "source": [
    "# Print out the column names to verify\n",
    "print(combined_data.columns)\n",
    "\n",
    "# Adjust column selections based on actual column names in your DataFrame\n",
    "web_traffic_df = combined_data[['Date', 'Visits', 'Page_Views', 'Sessions', 'Pages_per_Session', 'Session_Duration', 'Bounces', 'Exits']]\n",
    "\n",
    "# Assuming correct column names based on your dataset\n",
    "user_demographics_df = combined_data[['Visitors']] \n",
    "\n",
    "# Display the first few rows to verify\n",
    "print(\"Web Traffic DataFrame:\")\n",
    "print(web_traffic_df.head())\n",
    "\n",
    "print(\"\\nUser Demographics DataFrame:\")\n",
    "print(user_demographics_df.head())\n"
   ]
  },
  {
   "cell_type": "markdown",
   "metadata": {},
   "source": [
    "### Justification:\n",
    "##### Splitting the Dataset into Separate Tables:\n",
    "Improves organizational clarity and analytical focus, optimizing data management and insights generation"
   ]
  },
  {
   "cell_type": "markdown",
   "metadata": {},
   "source": [
    "### **Remove unnecessary variables and combine datasets**\n",
    "\n",
    "Depending on the datasets, you can also peform the combination before the cleaning steps."
   ]
  },
  {
   "cell_type": "code",
   "execution_count": 72,
   "metadata": {},
   "outputs": [
    {
     "data": {
      "text/html": [
       "<div>\n",
       "<style scoped>\n",
       "    .dataframe tbody tr th:only-of-type {\n",
       "        vertical-align: middle;\n",
       "    }\n",
       "\n",
       "    .dataframe tbody tr th {\n",
       "        vertical-align: top;\n",
       "    }\n",
       "\n",
       "    .dataframe thead th {\n",
       "        text-align: right;\n",
       "    }\n",
       "</style>\n",
       "<table border=\"1\" class=\"dataframe\">\n",
       "  <thead>\n",
       "    <tr style=\"text-align: right;\">\n",
       "      <th></th>\n",
       "      <th>Date</th>\n",
       "      <th>Visits</th>\n",
       "      <th>Page_Views</th>\n",
       "      <th>Sessions</th>\n",
       "      <th>Session_Duration</th>\n",
       "    </tr>\n",
       "  </thead>\n",
       "  <tbody>\n",
       "    <tr>\n",
       "      <th>0</th>\n",
       "      <td>2019-01-01</td>\n",
       "      <td>8270</td>\n",
       "      <td>10579</td>\n",
       "      <td>7336</td>\n",
       "      <td>236.29</td>\n",
       "    </tr>\n",
       "    <tr>\n",
       "      <th>1</th>\n",
       "      <td>2019-01-02</td>\n",
       "      <td>1860</td>\n",
       "      <td>4553</td>\n",
       "      <td>1950</td>\n",
       "      <td>150.72</td>\n",
       "    </tr>\n",
       "    <tr>\n",
       "      <th>2</th>\n",
       "      <td>2019-01-03</td>\n",
       "      <td>6390</td>\n",
       "      <td>15124</td>\n",
       "      <td>5234</td>\n",
       "      <td>276.75</td>\n",
       "    </tr>\n",
       "    <tr>\n",
       "      <th>3</th>\n",
       "      <td>2019-01-04</td>\n",
       "      <td>6191</td>\n",
       "      <td>10008</td>\n",
       "      <td>6150</td>\n",
       "      <td>212.30</td>\n",
       "    </tr>\n",
       "    <tr>\n",
       "      <th>4</th>\n",
       "      <td>2019-01-05</td>\n",
       "      <td>6734</td>\n",
       "      <td>16339</td>\n",
       "      <td>5426</td>\n",
       "      <td>137.19</td>\n",
       "    </tr>\n",
       "  </tbody>\n",
       "</table>\n",
       "</div>"
      ],
      "text/plain": [
       "        Date  Visits  Page_Views  Sessions  Session_Duration\n",
       "0 2019-01-01    8270       10579      7336            236.29\n",
       "1 2019-01-02    1860        4553      1950            150.72\n",
       "2 2019-01-03    6390       15124      5234            276.75\n",
       "3 2019-01-04    6191       10008      6150            212.30\n",
       "4 2019-01-05    6734       16339      5426            137.19"
      ]
     },
     "execution_count": 72,
     "metadata": {},
     "output_type": "execute_result"
    }
   ],
   "source": [
    "# Selecting necessary columns\n",
    "cleaned_data = combined_data[['Date', 'Visits', 'Page_Views', 'Sessions', 'Session_Duration']]\n",
    "cleaned_data.head()"
   ]
  },
  {
   "cell_type": "markdown",
   "metadata": {
    "id": "F42urHuzttjF"
   },
   "source": [
    "## 4. Update your data store\n",
    "#### Action:\n",
    "Save the cleaned data and maintain different versions for raw and cleaned data"
   ]
  },
  {
   "cell_type": "code",
   "execution_count": 73,
   "metadata": {
    "id": "V3uay7EJUV_L"
   },
   "outputs": [],
   "source": [
    "# Saving the cleaned dataset\n",
    "cleaned_data.to_csv('cleaned_ecommerce_data.csv', index=False)"
   ]
  },
  {
   "cell_type": "markdown",
   "metadata": {
    "id": "cGy_yddGtzhM"
   },
   "source": [
    "## 5. Answer the research question\n",
    "\n",
    "### **5.1:** Research Question: What are the trends and patterns in e-commerce web traffic and user behavior from 2019 to 2023?\n"
   ]
  },
  {
   "cell_type": "markdown",
   "metadata": {
    "id": "gjedE4s4ZkEd"
   },
   "source": [
    "#### Visual 1: Trends in Visits Over Time\n"
   ]
  },
  {
   "cell_type": "code",
   "execution_count": 74,
   "metadata": {
    "id": "Lkw3rW9kZmOm"
   },
   "outputs": [
    {
     "name": "stderr",
     "output_type": "stream",
     "text": [
      "C:\\Users\\PC\\AppData\\Local\\Temp\\ipykernel_5420\\2013562014.py:5: SettingWithCopyWarning: \n",
      "A value is trying to be set on a copy of a slice from a DataFrame.\n",
      "Try using .loc[row_indexer,col_indexer] = value instead\n",
      "\n",
      "See the caveats in the documentation: https://pandas.pydata.org/pandas-docs/stable/user_guide/indexing.html#returning-a-view-versus-a-copy\n",
      "  cleaned_data.loc[:, 'Year'] = cleaned_data['Date'].dt.year\n"
     ]
    },
    {
     "data": {
      "image/png": "[encoded data removed]",
      "text/plain": [
       "<Figure size 1000x700 with 1 Axes>"
      ]
     },
     "metadata": {},
     "output_type": "display_data"
    }
   ],
   "source": [
    "import matplotlib.pyplot as plt\n",
    "\n",
    "# Assuming cleaned_data is a DataFrame with 'Date' and 'Visits' columns\n",
    "# Extract year from the Date using .loc to avoid the SettingWithCopyWarning\n",
    "cleaned_data.loc[:, 'Year'] = cleaned_data['Date'].dt.year\n",
    "\n",
    "# Aggregate visits by year\n",
    "yearly_visits = cleaned_data.groupby('Year')['Visits'].sum()\n",
    "\n",
    "# Plot pie chart\n",
    "plt.figure(figsize=(10, 7))\n",
    "plt.pie(yearly_visits, labels=yearly_visits.index, autopct='%1.1f%%', startangle=140)\n",
    "plt.title('Distribution of Visits by Year (2019-2023)')\n",
    "plt.show()\n"
   ]
  },
  {
   "cell_type": "markdown",
   "metadata": {},
   "source": [
    "#### Answer:\n",
    "This visualization shows the trends in visits over time, highlighting periods of increased or decreased traffic. It can help id"
   ]
  },
  {
   "cell_type": "markdown",
   "metadata": {},
   "source": [
    "#### Visual 2: Average Session Duration Over Time"
   ]
  },
  {
   "cell_type": "code",
   "execution_count": 75,
   "metadata": {
    "id": "6fdK_8ZGZm9R"
   },
   "outputs": [
    {
     "data": {
      "image/png": "[encoded data removed]",
      "text/plain": [
       "<Figure size 1000x700 with 1 Axes>"
      ]
     },
     "metadata": {},
     "output_type": "display_data"
    }
   ],
   "source": [
    "\n",
    "# Assuming cleaned_data is a DataFrame with 'Date' and 'Session_Duration' columns\n",
    "# Extract year from the Date using .loc to avoid the SettingWithCopyWarning\n",
    "cleaned_data.loc[:, 'Year'] = cleaned_data['Date'].dt.year\n",
    "\n",
    "# Aggregate average session duration by year\n",
    "yearly_avg_duration = cleaned_data.groupby('Year')['Session_Duration'].mean()\n",
    "\n",
    "# Plot pie chart\n",
    "plt.figure(figsize=(10, 7))\n",
    "plt.pie(yearly_avg_duration, labels=yearly_avg_duration.index, autopct='%1.1f%%', startangle=140)\n",
    "plt.title('Average Session Duration Distribution by Year (2019-2023)')\n",
    "plt.show()"
   ]
  },
  {
   "cell_type": "markdown",
   "metadata": {
    "id": "K5RgvMGUZoHn"
   },
   "source": [
    "#### Answer:\n",
    "\n",
    "This plot illustrates the changes in average session duration over time, providing insights into user engagement and behavior patterns.\n"
   ]
  },
  {
   "cell_type": "markdown",
   "metadata": {
    "id": "0ezWXXZVj-TP"
   },
   "source": [
    "### **5.2:** Reflection"
   ]
  },
  {
   "cell_type": "markdown",
   "metadata": {
    "id": "XB3RBDG5kFe1"
   },
   "source": [
    "#### Answer:\n",
    "If I had more time to complete the project, I would further investigate additional data quality issues such as ensuring the accuracy of the Visitors data and exploring more sophisticated methods for outlier detection. I would also look into other variables that could impact user behavior, such as marketing campaign data, and explore more advanced analytical techniques to provide deeper insights into user engagement and trends.\n"
   ]
  }
 ],
 "metadata": {
  "colab": {
   "provenance": []
  },
  "kernelspec": {
   "display_name": "Python 3 (ipykernel)",
   "language": "python",
   "name": "python3"
  },
  "language_info": {
   "codemirror_mode": {
    "name": "ipython",
    "version": 3
   },
   "file_extension": ".py",
   "mimetype": "text/x-python",
   "name": "python",
   "nbconvert_exporter": "python",
   "pygments_lexer": "ipython3",
   "version": "3.11.7"
  }
 },
 "nbformat": 4,
 "nbformat_minor": 1
}
